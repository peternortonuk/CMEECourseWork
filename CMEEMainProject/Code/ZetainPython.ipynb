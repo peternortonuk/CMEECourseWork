{
 "cells": [
  {
   "cell_type": "code",
   "execution_count": 8,
   "metadata": {},
   "outputs": [],
   "source": [
    "import numpy as np\n",
    "\n",
    "Site1 = np.array([1,2,3,4])\n",
    "Site2 = np.array([2,3,4,5])\n",
    "Site3 = np.array([3,4,5,6])\n",
    "Site4 = np.array([4,5,6,7])"
   ]
  },
  {
   "cell_type": "code",
   "execution_count": 6,
   "metadata": {},
   "outputs": [
    {
     "name": "stdout",
     "output_type": "stream",
     "text": [
      "[4]\n"
     ]
    }
   ],
   "source": [
    "all4 = reduce(np.intersect1d, (Site1, Site2, Site3, Site4))\n",
    "print all4"
   ]
  },
  {
   "cell_type": "code",
   "execution_count": 9,
   "metadata": {},
   "outputs": [],
   "source": [
    "Site1 = {1,2,3,4}\n",
    "Site2 = {2,3,4,5}\n",
    "Site3 = {3,4,5,6}\n",
    "Site4 = {4,5,6,7}"
   ]
  },
  {
   "cell_type": "code",
   "execution_count": 12,
   "metadata": {},
   "outputs": [
    {
     "name": "stdout",
     "output_type": "stream",
     "text": [
      "set([4])\n"
     ]
    }
   ],
   "source": [
    "all4 =  (Site1&Site2&Site3&Site4)\n",
    "print all4"
   ]
  },
  {
   "cell_type": "code",
   "execution_count": 22,
   "metadata": {},
   "outputs": [
    {
     "name": "stdout",
     "output_type": "stream",
     "text": [
      "(set([1, 2, 3, 4]), set([2, 3, 4, 5]), set([3, 4, 5, 6]))\n",
      "(set([1, 2, 3, 4]), set([2, 3, 4, 5]), set([4, 5, 6, 7]))\n",
      "(set([1, 2, 3, 4]), set([3, 4, 5, 6]), set([4, 5, 6, 7]))\n",
      "(set([2, 3, 4, 5]), set([3, 4, 5, 6]), set([4, 5, 6, 7]))\n"
     ]
    }
   ],
   "source": [
    "import itertools\n",
    "listOLists = [Site1,Site2,Site3,Site4]\n",
    "for list in itertools.combinations(listOLists,3):\n",
    "  print list;"
   ]
  },
  {
   "cell_type": "code",
   "execution_count": null,
   "metadata": {},
   "outputs": [],
   "source": []
  }
 ],
 "metadata": {
  "kernelspec": {
   "display_name": "Python 2",
   "language": "python",
   "name": "python2"
  },
  "language_info": {
   "codemirror_mode": {
    "name": "ipython",
    "version": 2
   },
   "file_extension": ".py",
   "mimetype": "text/x-python",
   "name": "python",
   "nbconvert_exporter": "python",
   "pygments_lexer": "ipython2",
   "version": "2.7.12"
  }
 },
 "nbformat": 4,
 "nbformat_minor": 2
}
